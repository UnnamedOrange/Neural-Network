{
 "cells": [
  {
   "cell_type": "markdown",
   "source": [
    "# 02-VGG19\r\n",
    "\r\n",
    "一个图片分类的卷积神经网络。"
   ],
   "metadata": {}
  },
  {
   "cell_type": "code",
   "execution_count": null,
   "source": [
    "# Import here.\r\n",
    "import torch\r\n",
    "import collections\r\n",
    "import path\r\n",
    "\r\n",
    "import visdom"
   ],
   "outputs": [],
   "metadata": {}
  },
  {
   "cell_type": "code",
   "execution_count": null,
   "source": [
    "# Visdom here.\r\n",
    "g_is_visdom_on = True\r\n",
    "try:\r\n",
    "    g_vis = visdom.Visdom(raise_exceptions=True)\r\n",
    "except ConnectionError:\r\n",
    "    g_vis = None\r\n",
    "    g_is_visdom_on = False"
   ],
   "outputs": [],
   "metadata": {}
  },
  {
   "cell_type": "markdown",
   "source": [
    "定义神经网络。"
   ],
   "metadata": {}
  },
  {
   "cell_type": "code",
   "execution_count": null,
   "source": [
    "import net\r\n",
    "torch.manual_seed(3)\r\n",
    "g_my_net = net.vgg19()"
   ],
   "outputs": [],
   "metadata": {}
  },
  {
   "cell_type": "markdown",
   "source": [
    "生成数据集。"
   ],
   "metadata": {}
  },
  {
   "cell_type": "code",
   "execution_count": null,
   "source": [
    "import dataset\r\n",
    "_dir = path.Path('cifar-10-batches-py')\r\n",
    "_data_batchs = [_dir / ('data_batch_%d' % i) for i in range(1, 5 + 1)]\r\n",
    "_test_batchs = [_dir / 'test_batch']\r\n",
    "\r\n",
    "g_train_dataset = dataset.make_dataset(_data_batchs)\r\n",
    "g_test_dataset = dataset.make_dataset(_test_batchs)"
   ],
   "outputs": [],
   "metadata": {}
  },
  {
   "cell_type": "markdown",
   "source": [
    "初始化 visdom。"
   ],
   "metadata": {}
  },
  {
   "cell_type": "code",
   "execution_count": null,
   "source": [
    "g_win_loss = [None]\r\n",
    "g_win_loss_options = {\r\n",
    "    'title': 'Batch Loss Trace',\r\n",
    "    'xlabel': 'Batch Count',\r\n",
    "    'ylabel': 'Loss',\r\n",
    "}\r\n",
    "\r\n",
    "g_win_test = [None]\r\n",
    "g_win_test_options = {\r\n",
    "    'title': 'Test Loss Trace',\r\n",
    "    'xlabel': 'Epoch Count',\r\n",
    "    'ylabel': 'Loss',\r\n",
    "}"
   ],
   "outputs": [],
   "metadata": {}
  },
  {
   "cell_type": "markdown",
   "source": [
    "初始化测试器。"
   ],
   "metadata": {}
  },
  {
   "cell_type": "code",
   "execution_count": null,
   "source": [
    "import test\r\n",
    "def get_my_test():\r\n",
    "    times = 0\r\n",
    "    losses = []\r\n",
    "\r\n",
    "    def my_test():\r\n",
    "        nonlocal times\r\n",
    "        nonlocal losses\r\n",
    "        times = times + 1\r\n",
    "        test.test(times, losses,\r\n",
    "                  g_my_net,\r\n",
    "                  torch.cuda.is_available(),\r\n",
    "                  g_test_dataset,\r\n",
    "                  100, 0, g_vis, g_win_test, g_win_test_options)\r\n",
    "\r\n",
    "    return my_test"
   ],
   "outputs": [],
   "metadata": {}
  },
  {
   "cell_type": "markdown",
   "source": [
    "训练。"
   ],
   "metadata": {}
  },
  {
   "cell_type": "code",
   "execution_count": null,
   "source": [
    "import train\r\n",
    "g_my_net.optimizer.state = collections.defaultdict(dict)\r\n",
    "train.train(g_my_net, torch.cuda.is_available(), g_train_dataset,\r\n",
    "            400, 0, 50, g_vis, g_win_loss, g_win_loss_options,\r\n",
    "            on_test=get_my_test())"
   ],
   "outputs": [],
   "metadata": {}
  }
 ],
 "metadata": {
  "orig_nbformat": 4,
  "language_info": {
   "name": "python",
   "version": "3.8.8",
   "mimetype": "text/x-python",
   "codemirror_mode": {
    "name": "ipython",
    "version": 3
   },
   "pygments_lexer": "ipython3",
   "nbconvert_exporter": "python",
   "file_extension": ".py"
  },
  "kernelspec": {
   "name": "python3",
   "display_name": "Python 3.8.8 64-bit ('base': conda)"
  },
  "interpreter": {
   "hash": "b3ba2566441a7c06988d0923437866b63cedc61552a5af99d1f4fb67d367b25f"
  }
 },
 "nbformat": 4,
 "nbformat_minor": 2
}