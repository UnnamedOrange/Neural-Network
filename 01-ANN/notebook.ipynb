{
 "cells": [
  {
   "cell_type": "markdown",
   "source": [
    "# 01-ANN\r\n",
    "\r\n",
    "一个简单的人工神经网络。"
   ],
   "metadata": {}
  },
  {
   "cell_type": "code",
   "execution_count": null,
   "source": [
    "# Import here.\r\n",
    "import numpy as np\r\n",
    "import torch\r\n",
    "import collections\r\n",
    "\r\n",
    "from matplotlib import pyplot as plt\r\n",
    "\r\n",
    "import visdom"
   ],
   "outputs": [],
   "metadata": {}
  },
  {
   "cell_type": "code",
   "execution_count": null,
   "source": [
    "# Visdom here.\r\n",
    "g_is_visdom_on = True\r\n",
    "try:\r\n",
    "    g_vis = visdom.Visdom(raise_exceptions=True)\r\n",
    "except ConnectionError:\r\n",
    "    g_vis = None\r\n",
    "    g_is_visdom_on = False"
   ],
   "outputs": [],
   "metadata": {}
  },
  {
   "cell_type": "markdown",
   "source": [
    "给出标准函数：\r\n",
    "$$\r\n",
    "f(x) = x^2 + \\dfrac{1}{\\mathrm e^x - \\mathrm e^{-x}} \\pod{x > 0}\r\n",
    "$$"
   ],
   "metadata": {}
  },
  {
   "cell_type": "code",
   "execution_count": null,
   "source": [
    "def f(x, exp=np.exp):\r\n",
    "    return x**2 + 1 / (exp(x) - exp(-x))"
   ],
   "outputs": [],
   "metadata": {}
  },
  {
   "cell_type": "code",
   "execution_count": null,
   "source": [
    "def show_f():\r\n",
    "    xs = np.linspace(0.01, 2, 1000)\r\n",
    "    plt.plot(xs, f(xs))\r\n",
    "    if g_vis:\r\n",
    "        g_vis.line(f(xs), xs)\r\n",
    "show_f()\r\n",
    "del show_f"
   ],
   "outputs": [],
   "metadata": {}
  },
  {
   "cell_type": "markdown",
   "source": [
    "定义神经网络。"
   ],
   "metadata": {}
  },
  {
   "cell_type": "code",
   "execution_count": null,
   "source": [
    "import net\r\n",
    "torch.manual_seed(3)\r\n",
    "g_my_net = net.ann()"
   ],
   "outputs": [],
   "metadata": {}
  },
  {
   "cell_type": "markdown",
   "source": [
    "生成数据集。"
   ],
   "metadata": {}
  },
  {
   "cell_type": "code",
   "execution_count": null,
   "source": [
    "import dataset\r\n",
    "g_train_dataset = dataset.make_dataset(f, 200000, 3, 8)\r\n",
    "g_test_dataset = dataset.make_dataset(f, 500, 5, 15)"
   ],
   "outputs": [],
   "metadata": {}
  },
  {
   "cell_type": "markdown",
   "source": [
    "初始化 visdom。"
   ],
   "metadata": {}
  },
  {
   "cell_type": "code",
   "execution_count": null,
   "source": [
    "g_win_loss = [None]\r\n",
    "g_win_loss_options = {\r\n",
    "    'title': 'Batch Loss Trace',\r\n",
    "    'xlabel': 'Batch Count',\r\n",
    "    'ylabel': 'Loss'\r\n",
    "}\r\n",
    "\r\n",
    "g_win_test = [None]\r\n",
    "g_win_test_options = {\r\n",
    "    'title': 'Test',\r\n",
    "    'xlabel': 'x',\r\n",
    "    'ylabel': 'y',\r\n",
    "    'markersize': 1\r\n",
    "}"
   ],
   "outputs": [],
   "metadata": {}
  },
  {
   "cell_type": "markdown",
   "source": [
    "初始化测试器。"
   ],
   "metadata": {}
  },
  {
   "cell_type": "code",
   "execution_count": null,
   "source": [
    "import test\r\n",
    "def my_test():\r\n",
    "    test.test(g_my_net, torch.cuda.is_available(), g_test_dataset, len(\r\n",
    "        g_test_dataset), 0, g_vis, g_win_test, g_win_test_options)"
   ],
   "outputs": [],
   "metadata": {}
  },
  {
   "cell_type": "markdown",
   "source": [
    "训练。"
   ],
   "metadata": {}
  },
  {
   "cell_type": "code",
   "execution_count": null,
   "source": [
    "import train\r\n",
    "g_my_net.optimizer.state = collections.defaultdict(dict)\r\n",
    "train.train(g_my_net, torch.cuda.is_available(), g_train_dataset,\r\n",
    "            1000, 0, 2, g_vis, g_win_loss, g_win_loss_options, my_test)"
   ],
   "outputs": [],
   "metadata": {}
  }
 ],
 "metadata": {
  "orig_nbformat": 4,
  "language_info": {
   "name": "python",
   "version": "3.8.8",
   "mimetype": "text/x-python",
   "codemirror_mode": {
    "name": "ipython",
    "version": 3
   },
   "pygments_lexer": "ipython3",
   "nbconvert_exporter": "python",
   "file_extension": ".py"
  },
  "kernelspec": {
   "name": "python3",
   "display_name": "Python 3.8.8 64-bit ('base': conda)"
  },
  "interpreter": {
   "hash": "b3ba2566441a7c06988d0923437866b63cedc61552a5af99d1f4fb67d367b25f"
  }
 },
 "nbformat": 4,
 "nbformat_minor": 2
}